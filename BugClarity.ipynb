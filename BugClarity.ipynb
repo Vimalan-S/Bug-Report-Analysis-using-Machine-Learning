{
 "cells": [
  {
   "cell_type": "code",
   "execution_count": 2,
   "metadata": {},
   "outputs": [],
   "source": [
    "import pandas as pd\n",
    "import seaborn as sns\n",
    "import matplotlib.pyplot as plt\n",
    "import numpy as np\n",
    "%matplotlib inline"
   ]
  },
  {
   "cell_type": "code",
   "execution_count": 3,
   "metadata": {},
   "outputs": [
    {
     "data": {
      "text/html": [
       "<div>\n",
       "<style scoped>\n",
       "    .dataframe tbody tr th:only-of-type {\n",
       "        vertical-align: middle;\n",
       "    }\n",
       "\n",
       "    .dataframe tbody tr th {\n",
       "        vertical-align: top;\n",
       "    }\n",
       "\n",
       "    .dataframe thead th {\n",
       "        text-align: right;\n",
       "    }\n",
       "</style>\n",
       "<table border=\"1\" class=\"dataframe\">\n",
       "  <thead>\n",
       "    <tr style=\"text-align: right;\">\n",
       "      <th></th>\n",
       "      <th>Reproducibility</th>\n",
       "      <th>Specificity</th>\n",
       "      <th>Description</th>\n",
       "      <th>Environment</th>\n",
       "      <th>Severity</th>\n",
       "      <th>Priority</th>\n",
       "      <th>Attachments</th>\n",
       "      <th>BugClarity</th>\n",
       "    </tr>\n",
       "  </thead>\n",
       "  <tbody>\n",
       "    <tr>\n",
       "      <th>0</th>\n",
       "      <td>0</td>\n",
       "      <td>0</td>\n",
       "      <td>0</td>\n",
       "      <td>0</td>\n",
       "      <td>0</td>\n",
       "      <td>0</td>\n",
       "      <td>0</td>\n",
       "      <td>0.00</td>\n",
       "    </tr>\n",
       "    <tr>\n",
       "      <th>1</th>\n",
       "      <td>0</td>\n",
       "      <td>0</td>\n",
       "      <td>0</td>\n",
       "      <td>0</td>\n",
       "      <td>0</td>\n",
       "      <td>0</td>\n",
       "      <td>1</td>\n",
       "      <td>0.20</td>\n",
       "    </tr>\n",
       "    <tr>\n",
       "      <th>2</th>\n",
       "      <td>0</td>\n",
       "      <td>0</td>\n",
       "      <td>0</td>\n",
       "      <td>0</td>\n",
       "      <td>0</td>\n",
       "      <td>1</td>\n",
       "      <td>0</td>\n",
       "      <td>0.10</td>\n",
       "    </tr>\n",
       "    <tr>\n",
       "      <th>3</th>\n",
       "      <td>0</td>\n",
       "      <td>0</td>\n",
       "      <td>0</td>\n",
       "      <td>0</td>\n",
       "      <td>0</td>\n",
       "      <td>1</td>\n",
       "      <td>1</td>\n",
       "      <td>0.35</td>\n",
       "    </tr>\n",
       "    <tr>\n",
       "      <th>4</th>\n",
       "      <td>0</td>\n",
       "      <td>0</td>\n",
       "      <td>0</td>\n",
       "      <td>0</td>\n",
       "      <td>1</td>\n",
       "      <td>0</td>\n",
       "      <td>0</td>\n",
       "      <td>0.10</td>\n",
       "    </tr>\n",
       "  </tbody>\n",
       "</table>\n",
       "</div>"
      ],
      "text/plain": [
       "   Reproducibility  Specificity  Description  Environment  Severity  Priority  \\\n",
       "0                0            0            0            0         0         0   \n",
       "1                0            0            0            0         0         0   \n",
       "2                0            0            0            0         0         1   \n",
       "3                0            0            0            0         0         1   \n",
       "4                0            0            0            0         1         0   \n",
       "\n",
       "   Attachments  BugClarity  \n",
       "0            0        0.00  \n",
       "1            1        0.20  \n",
       "2            0        0.10  \n",
       "3            1        0.35  \n",
       "4            0        0.10  "
      ]
     },
     "execution_count": 3,
     "metadata": {},
     "output_type": "execute_result"
    }
   ],
   "source": [
    "df = pd.read_csv(r\"C:\\Users\\Mahesh\\OneDrive\\Documents\\JuPyter NoteBook\\ML x Testing\\BugReport.csv\")\n",
    "df.head()"
   ]
  },
  {
   "cell_type": "code",
   "execution_count": 4,
   "metadata": {},
   "outputs": [],
   "source": [
    "X = df.drop(columns=[\"BugClarity\"], axis=0)\n",
    "y = df[\"BugClarity\"]"
   ]
  },
  {
   "cell_type": "code",
   "execution_count": 5,
   "metadata": {},
   "outputs": [],
   "source": [
    "from sklearn.model_selection import train_test_split\n",
    "from sklearn.linear_model import LinearRegression"
   ]
  },
  {
   "cell_type": "code",
   "execution_count": 6,
   "metadata": {},
   "outputs": [
    {
     "name": "stdout",
     "output_type": "stream",
     "text": [
      "0.8660050941292491\n"
     ]
    },
    {
     "name": "stderr",
     "output_type": "stream",
     "text": [
      "c:\\Users\\Mahesh\\AppData\\Local\\Programs\\Python\\Python310\\lib\\site-packages\\sklearn\\base.py:443: UserWarning: X has feature names, but LinearRegression was fitted without feature names\n",
      "  warnings.warn(\n"
     ]
    }
   ],
   "source": [
    "X_train, X_test, y_train, y_test = train_test_split(X, y, test_size = 0.25)\n",
    "  \n",
    "# Splitting the data into training and testing data\n",
    "regr = LinearRegression()\n",
    "  \n",
    "regr.fit(X_train.values, y_train.values)\n",
    "print(regr.score(X_test, y_test))"
   ]
  },
  {
   "cell_type": "code",
   "execution_count": 8,
   "metadata": {},
   "outputs": [],
   "source": [
    "# loading library\n",
    "import pickle\n",
    "# create an iterator object with write permission - model.pkl\n",
    "with open('model_pkl', 'wb') as files:\n",
    "    pickle.dump(regr, files)"
   ]
  },
  {
   "cell_type": "code",
   "execution_count": 9,
   "metadata": {},
   "outputs": [],
   "source": [
    "import PyPDF2"
   ]
  },
  {
   "cell_type": "code",
   "execution_count": 10,
   "metadata": {},
   "outputs": [],
   "source": [
    "priority, severity, description,environment,reproducibility,specificity,screenshot = 0,0,0,0,0,0,0"
   ]
  },
  {
   "cell_type": "code",
   "execution_count": 11,
   "metadata": {},
   "outputs": [],
   "source": [
    "# Open the PDF file in read-binary mode\n",
    "with open('SAMPLE BUG REPORT.pdf', 'rb') as pdf_file:\n",
    "    \n",
    "    # Read the PDF file object with PyPDF2\n",
    "    pdf_reader = PyPDF2.PdfReader(pdf_file)\n",
    "    \n",
    "    # Loop through each page in the PDF file\n",
    "    for page in range(len(pdf_reader.pages)):\n",
    "        \n",
    "        # Get the text of the current page\n",
    "        page_text = pdf_reader.pages[page].extract_text()\n",
    "        \n",
    "        if \"Reproduce\".lower() in page_text.lower() or \"Steps to produce\".lower() in page_text.lower() or \"Steps to Reproduce\".lower() in page_text.lower():\n",
    "            reproducibility = 1\n",
    "        \n",
    "        if \"description\".lower() in page_text.lower():\n",
    "            description = 1\n",
    "\n",
    "        if \"Browser\".lower() in page_text.lower() or \"OS\".lower() in page_text.lower() or \"Environment\".lower() in page_text.lower():\n",
    "            environment = 1\n",
    "\n",
    "        if \"Priority\".lower() in page_text.lower() or \"Priority of Bug\".lower() in page_text.lower():\n",
    "            priority = 1\n",
    "\n",
    "        if \"Severity\".lower() in page_text.lower():\n",
    "            severity = 1      \n",
    "        \n",
    "        if \"Specificity\".lower() in page_text.lower() or \"expected results\".lower() in page_text.lower() or \"expected result\".lower() in page_text.lower():\n",
    "            specificity = 1\n",
    "\n",
    "        pdf_page = pdf_reader.pages[page]\n",
    "        # Check if the page object contains any images\n",
    "        \n",
    "        if '/XObject' in pdf_page['/Resources']:\n",
    "            screenshot = 1"
   ]
  },
  {
   "cell_type": "code",
   "execution_count": 12,
   "metadata": {},
   "outputs": [],
   "source": [
    "arr = []\n",
    "\n",
    "arr.append(reproducibility)\n",
    "arr.append(description)\n",
    "arr.append(environment)\n",
    "arr.append(severity)\n",
    "arr.append(priority)\n",
    "arr.append(specificity)\n",
    "arr.append(screenshot)"
   ]
  },
  {
   "cell_type": "code",
   "execution_count": 13,
   "metadata": {},
   "outputs": [
    {
     "data": {
      "text/plain": [
       "[1, 1, 1, 1, 1, 1, 1]"
      ]
     },
     "execution_count": 13,
     "metadata": {},
     "output_type": "execute_result"
    }
   ],
   "source": [
    "arr"
   ]
  },
  {
   "cell_type": "code",
   "execution_count": 14,
   "metadata": {},
   "outputs": [
    {
     "name": "stdout",
     "output_type": "stream",
     "text": [
      "Bug Clarity = 100.00%\n"
     ]
    }
   ],
   "source": [
    "ans = regr.predict(np.array([arr]))\n",
    "if((ans[0]*100) > 100):  \n",
    "    print(\"Bug Clarity = {:.2f}%\".format(100))\n",
    "else:\n",
    "    print(\"Bug Clarity = {:.2f}%\".format(ans[0]*100))\n",
    "\n",
    "    print(\"SUGGESTIONS:\")\n",
    "\n",
    "    if(arr[0] == 0): print(\"Dear tester, when reporting a bug, please be sure to include the steps to reproduce the Bug so that developers can quickly and accurately identify and fix the problem. \\nClear and concise instructions will help Devs to resolve the issue in a timely manner. \\nThank you for your cooperation.\")\n",
    "    if(arr[1] == 0): print(\"\\nDear tester, please ensure to provide a detailed description of the bug when reporting it. \\nThis will help Devs understand the issue better and troubleshoot it effectively. \\nThank you for your assistance.\")\n",
    "    if(arr[2] == 0): print(\"\\nDear Tester, when submitting a bug report, please be sure to include information about the test environment where the bug was found. \\nThis includes details such as Operating system, Browser version, and any relevant hardware specifications. \\nThis will help Devs to replicate the issue and identify potential solutions more quickly. \\nThank you for your attention to this important detail.\")\n",
    "    if(arr[3] == 0): print(\"\\nDear Tester, when submitting a bug report, please make sure to include information about the Severity of the bug. \\nThis helps Devs to prioritize and address the most critical issues first. \\nPlease use a standardized severity scale if available, or provide a brief description of the potential impact of the bug on users or the system. \\nThank you for your cooperation in ensuring the most efficient bug fixing process.\")\n",
    "    if(arr[4] == 0): print(\"\\nDear Tester, when submitting a bug report, please indicate the Priority level of the bug. \\nThis helps Devs to allocate appropriate resources and ensure that critical issues are addressed promptly. \\nPlease use a standardized priority scale if available, or provide a brief description of the urgency of the issue. \\nThank you for your cooperation in ensuring the most effective bug fixing process.\")\n",
    "    if(arr[5] == 0): print(\"\\nDear Tester, when submitting a bug report, please be sure to include information about the Expected results and Actual results of the issue. \\nPlease describe the expected behavior of the system or application and provide a clear account of how the actual behavior deviates from this expectation. \\nThank you for your cooperation in ensuring the most effective bug fixing process.\")\n",
    "    if(arr[6] == 0): print(\"\\nDear Tester, when submitting a bug report, please consider including Screenshots of the bug you have encountered. \\nThis can help us to quickly identify the problem and determine the appropriate solution. \\nPlease provide clear and high-quality screenshots that clearly demonstrate the issue. \\nThank you for your cooperation in ensuring the most efficient bug fixing process.\")"
   ]
  }
 ],
 "metadata": {
  "kernelspec": {
   "display_name": "Python 3",
   "language": "python",
   "name": "python3"
  },
  "language_info": {
   "codemirror_mode": {
    "name": "ipython",
    "version": 3
   },
   "file_extension": ".py",
   "mimetype": "text/x-python",
   "name": "python",
   "nbconvert_exporter": "python",
   "pygments_lexer": "ipython3",
   "version": "3.10.1"
  },
  "orig_nbformat": 4
 },
 "nbformat": 4,
 "nbformat_minor": 2
}
